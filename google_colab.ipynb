{
  "metadata": {
    "kernelspec": {
      "language": "python",
      "display_name": "Python 3",
      "name": "python3"
    },
    "language_info": {
      "name": "python",
      "version": "3.7.6",
      "mimetype": "text/x-python",
      "codemirror_mode": {
        "name": "ipython",
        "version": 3
      },
      "pygments_lexer": "ipython3",
      "nbconvert_exporter": "python",
      "file_extension": ".py"
    },
    "kaggle": {
      "accelerator": "none",
      "dataSources": [
        {
          "sourceId": 320629,
          "sourceType": "datasetVersion",
          "datasetId": 134969
        }
      ],
      "dockerImageVersionId": 30035,
      "isInternetEnabled": false,
      "language": "python",
      "sourceType": "notebook",
      "isGpuEnabled": false
    },
    "colab": {
      "name": "NAD with 87 AUC",
      "provenance": []
    }
  },
  "nbformat_minor": 0,
  "nbformat": 4,
  "cells": [
    {
      "source": [
        "\n",
        "# IMPORTANT: RUN THIS CELL IN ORDER TO IMPORT YOUR KAGGLE DATA SOURCES\n",
        "# TO THE CORRECT LOCATION (/kaggle/input) IN YOUR NOTEBOOK,\n",
        "# THEN FEEL FREE TO DELETE THIS CELL.\n",
        "# NOTE: THIS NOTEBOOK ENVIRONMENT DIFFERS FROM KAGGLE'S PYTHON\n",
        "# ENVIRONMENT SO THERE MAY BE MISSING LIBRARIES USED BY YOUR\n",
        "# NOTEBOOK.\n",
        "\n",
        "import os\n",
        "import sys\n",
        "from tempfile import NamedTemporaryFile\n",
        "from urllib.request import urlopen\n",
        "from urllib.parse import unquote, urlparse\n",
        "from urllib.error import HTTPError\n",
        "from zipfile import ZipFile\n",
        "import tarfile\n",
        "import shutil\n",
        "\n",
        "CHUNK_SIZE = 40960\n",
        "DATA_SOURCE_MAPPING = 'network-anamoly-detection:https%3A%2F%2Fstorage.googleapis.com%2Fkaggle-data-sets%2F134969%2F320629%2Fbundle%2Farchive.zip%3FX-Goog-Algorithm%3DGOOG4-RSA-SHA256%26X-Goog-Credential%3Dgcp-kaggle-com%2540kaggle-161607.iam.gserviceaccount.com%252F20240603%252Fauto%252Fstorage%252Fgoog4_request%26X-Goog-Date%3D20240603T165753Z%26X-Goog-Expires%3D259200%26X-Goog-SignedHeaders%3Dhost%26X-Goog-Signature%3D3e05c66de70269bcdc7b2a12cec847b5963042023a7104d115cbe3e10b78482ef24297c5dae081fa430e69c0c4326bf4e55b00d8dcbf9e57d3b95cc828cd3addddc8b4b0137c2107ec44e7041fbf01e8e4adfebbf356fdc2686686b4a05773f56839c40a6acdb97cd7d9c6646f691e925030cfa001d17b4824c75b143b5565d380cba3b9fc8884dba8fa82f0ae73905701668dba138ce8f3358c1f9528bbb6cecbdb59e575c845506f60117b7573926c64e0ab2eb5a7b96bede8d98580621f7ee2d624824fb131e844b2074db6feb0f1e300ef64000e9f58b844345a621e0457eedbbd5be8cfd079ebd26802722a89bf7613844b3496f903096da69cbd182d87'\n",
        "\n",
        "KAGGLE_INPUT_PATH='/kaggle/input'\n",
        "KAGGLE_WORKING_PATH='/kaggle/working'\n",
        "KAGGLE_SYMLINK='kaggle'\n",
        "\n",
        "!umount /kaggle/input/ 2> /dev/null\n",
        "shutil.rmtree('/kaggle/input', ignore_errors=True)\n",
        "os.makedirs(KAGGLE_INPUT_PATH, 0o777, exist_ok=True)\n",
        "os.makedirs(KAGGLE_WORKING_PATH, 0o777, exist_ok=True)\n",
        "\n",
        "try:\n",
        "  os.symlink(KAGGLE_INPUT_PATH, os.path.join(\"..\", 'input'), target_is_directory=True)\n",
        "except FileExistsError:\n",
        "  pass\n",
        "try:\n",
        "  os.symlink(KAGGLE_WORKING_PATH, os.path.join(\"..\", 'working'), target_is_directory=True)\n",
        "except FileExistsError:\n",
        "  pass\n",
        "\n",
        "for data_source_mapping in DATA_SOURCE_MAPPING.split(','):\n",
        "    directory, download_url_encoded = data_source_mapping.split(':')\n",
        "    download_url = unquote(download_url_encoded)\n",
        "    filename = urlparse(download_url).path\n",
        "    destination_path = os.path.join(KAGGLE_INPUT_PATH, directory)\n",
        "    try:\n",
        "        with urlopen(download_url) as fileres, NamedTemporaryFile() as tfile:\n",
        "            total_length = fileres.headers['content-length']\n",
        "            print(f'Downloading {directory}, {total_length} bytes compressed')\n",
        "            dl = 0\n",
        "            data = fileres.read(CHUNK_SIZE)\n",
        "            while len(data) > 0:\n",
        "                dl += len(data)\n",
        "                tfile.write(data)\n",
        "                done = int(50 * dl / int(total_length))\n",
        "                sys.stdout.write(f\"\\r[{'=' * done}{' ' * (50-done)}] {dl} bytes downloaded\")\n",
        "                sys.stdout.flush()\n",
        "                data = fileres.read(CHUNK_SIZE)\n",
        "            if filename.endswith('.zip'):\n",
        "              with ZipFile(tfile) as zfile:\n",
        "                zfile.extractall(destination_path)\n",
        "            else:\n",
        "              with tarfile.open(tfile.name) as tarfile:\n",
        "                tarfile.extractall(destination_path)\n",
        "            print(f'\\nDownloaded and uncompressed: {directory}')\n",
        "    except HTTPError as e:\n",
        "        print(f'Failed to load (likely expired) {download_url} to path {destination_path}')\n",
        "        continue\n",
        "    except OSError as e:\n",
        "        print(f'Failed to load {download_url} to path {destination_path}')\n",
        "        continue\n",
        "\n",
        "print('Data source import complete.')\n"
      ],
      "metadata": {
        "id": "Sbkb1sYzCVSD"
      },
      "cell_type": "code",
      "outputs": [],
      "execution_count": null
    },
    {
      "cell_type": "code",
      "source": [
        "import numpy as np\n",
        "import pandas as pd\n",
        "import tensorflow as tf\n",
        "import matplotlib.pyplot as plt\n",
        "import seaborn as sns\n",
        "import time\n",
        "import multiprocessing\n",
        "import joblib\n",
        "from sklearn.linear_model import LogisticRegression\n",
        "from sklearn.ensemble import RandomForestClassifier\n",
        "from collections import Counter\n",
        "from sklearn.preprocessing import LabelEncoder, StandardScaler\n",
        "from sklearn.svm import SVC\n",
        "import tensorflow as tf\n",
        "from tensorflow.keras import Sequential\n",
        "from tensorflow.keras.layers import Dense, Dropout\n",
        "\n",
        "from sklearn.model_selection import train_test_split\n",
        "from imblearn.over_sampling import SMOTE, ADASYN\n",
        "from sklearn.metrics import confusion_matrix, r2_score, mean_squared_error\n",
        "from sklearn.metrics import precision_score, recall_score, f1_score, roc_auc_score, accuracy_score, classification_report, precision_recall_curve\n",
        "import warnings\n",
        "warnings.filterwarnings(\"ignore\")\n",
        "import pickle"
      ],
      "metadata": {
        "_uuid": "d629ff2d2480ee46fbb7e2d37f6b5fab8052498a",
        "_cell_guid": "79c7e3d0-c299-4dcb-8224-4455121ee9b0",
        "execution": {
          "iopub.status.busy": "2024-05-25T16:54:34.782097Z",
          "iopub.execute_input": "2024-05-25T16:54:34.782706Z",
          "iopub.status.idle": "2024-05-25T16:54:42.373Z",
          "shell.execute_reply.started": "2024-05-25T16:54:34.782643Z",
          "shell.execute_reply": "2024-05-25T16:54:42.371611Z"
        },
        "trusted": true,
        "id": "1pyH9XhQCVSX"
      },
      "execution_count": null,
      "outputs": []
    },
    {
      "cell_type": "code",
      "source": [
        "!pip3 install pickle5"
      ],
      "metadata": {
        "execution": {
          "iopub.status.busy": "2024-05-25T16:54:42.375128Z",
          "iopub.execute_input": "2024-05-25T16:54:42.375605Z",
          "iopub.status.idle": "2024-05-25T16:57:13.358742Z",
          "shell.execute_reply.started": "2024-05-25T16:54:42.375556Z",
          "shell.execute_reply": "2024-05-25T16:57:13.357432Z"
        },
        "trusted": true,
        "id": "655FnLciCVSa",
        "outputId": "7eeb3bc0-8b91-44ff-809c-170a79870947"
      },
      "execution_count": null,
      "outputs": [
        {
          "name": "stdout",
          "text": "\u001b[33mWARNING: Retrying (Retry(total=4, connect=None, read=None, redirect=None, status=None)) after connection broken by 'NewConnectionError('<pip._vendor.urllib3.connection.HTTPSConnection object at 0x7f4619c29d90>: Failed to establish a new connection: [Errno -3] Temporary failure in name resolution')': /simple/pickle5/\u001b[0m\n\u001b[33mWARNING: Retrying (Retry(total=3, connect=None, read=None, redirect=None, status=None)) after connection broken by 'NewConnectionError('<pip._vendor.urllib3.connection.HTTPSConnection object at 0x7f4619d1ae10>: Failed to establish a new connection: [Errno -3] Temporary failure in name resolution')': /simple/pickle5/\u001b[0m\n\u001b[33mWARNING: Retrying (Retry(total=2, connect=None, read=None, redirect=None, status=None)) after connection broken by 'NewConnectionError('<pip._vendor.urllib3.connection.HTTPSConnection object at 0x7f4619d1ac50>: Failed to establish a new connection: [Errno -3] Temporary failure in name resolution')': /simple/pickle5/\u001b[0m\n\u001b[33mWARNING: Retrying (Retry(total=1, connect=None, read=None, redirect=None, status=None)) after connection broken by 'NewConnectionError('<pip._vendor.urllib3.connection.HTTPSConnection object at 0x7f4619d1ab10>: Failed to establish a new connection: [Errno -3] Temporary failure in name resolution')': /simple/pickle5/\u001b[0m\n\u001b[33mWARNING: Retrying (Retry(total=0, connect=None, read=None, redirect=None, status=None)) after connection broken by 'NewConnectionError('<pip._vendor.urllib3.connection.HTTPSConnection object at 0x7f4619d1aad0>: Failed to establish a new connection: [Errno -3] Temporary failure in name resolution')': /simple/pickle5/\u001b[0m\n\u001b[31mERROR: Could not find a version that satisfies the requirement pickle5 (from versions: none)\u001b[0m\n\u001b[31mERROR: No matching distribution found for pickle5\u001b[0m\n",
          "output_type": "stream"
        }
      ]
    },
    {
      "cell_type": "code",
      "source": [
        "df = pd.read_csv(\"/kaggle/input/network-anamoly-detection/Train.txt\",sep=\",\",names=[\"duration\",\"protocoltype\",\"service\",\"flag\",\"srcbytes\",\"dstbytes\",\"land\", \"wrongfragment\",\"urgent\",\"hot\",\"numfailedlogins\",\"loggedin\", \"numcompromised\",\"rootshell\",\"suattempted\",\"numroot\",\"numfilecreations\", \"numshells\",\"numaccessfiles\",\"numoutboundcmds\",\"ishostlogin\",\n",
        "\"isguestlogin\",\"count\",\"srvcount\",\"serrorrate\", \"srvserrorrate\",\n",
        "\"rerrorrate\",\"srvrerrorrate\",\"samesrvrate\", \"diffsrvrate\", \"srvdiffhostrate\",\"dsthostcount\",\"dsthostsrvcount\",\"dsthostsamesrvrate\", \"dsthostdiffsrvrate\",\"dsthostsamesrcportrate\",\n",
        "\"dsthostsrvdiffhostrate\",\"dsthostserrorrate\",\"dsthostsrvserrorrate\",\n",
        "\"dsthostrerrorrate\",\"dsthostsrvrerrorrate\",\"attack\", \"lastflag\"])\n",
        "df.head()"
      ],
      "metadata": {
        "execution": {
          "iopub.status.busy": "2024-05-25T16:57:13.361725Z",
          "iopub.execute_input": "2024-05-25T16:57:13.362267Z",
          "iopub.status.idle": "2024-05-25T16:57:14.040987Z",
          "shell.execute_reply.started": "2024-05-25T16:57:13.362195Z",
          "shell.execute_reply": "2024-05-25T16:57:14.039533Z"
        },
        "trusted": true,
        "id": "6t7_2wSmCVSf",
        "outputId": "683cab22-b59c-469e-b962-925e8408437a"
      },
      "execution_count": null,
      "outputs": [
        {
          "execution_count": 3,
          "output_type": "execute_result",
          "data": {
            "text/plain": "   duration protocoltype   service flag  srcbytes  dstbytes  land  \\\n0         0          tcp  ftp_data   SF       491         0     0   \n1         0          udp     other   SF       146         0     0   \n2         0          tcp   private   S0         0         0     0   \n3         0          tcp      http   SF       232      8153     0   \n4         0          tcp      http   SF       199       420     0   \n\n   wrongfragment  urgent  hot  ...  dsthostsamesrvrate  dsthostdiffsrvrate  \\\n0              0       0    0  ...                0.17                0.03   \n1              0       0    0  ...                0.00                0.60   \n2              0       0    0  ...                0.10                0.05   \n3              0       0    0  ...                1.00                0.00   \n4              0       0    0  ...                1.00                0.00   \n\n   dsthostsamesrcportrate  dsthostsrvdiffhostrate  dsthostserrorrate  \\\n0                    0.17                    0.00               0.00   \n1                    0.88                    0.00               0.00   \n2                    0.00                    0.00               1.00   \n3                    0.03                    0.04               0.03   \n4                    0.00                    0.00               0.00   \n\n   dsthostsrvserrorrate  dsthostrerrorrate  dsthostsrvrerrorrate   attack  \\\n0                  0.00               0.05                  0.00   normal   \n1                  0.00               0.00                  0.00   normal   \n2                  1.00               0.00                  0.00  neptune   \n3                  0.01               0.00                  0.01   normal   \n4                  0.00               0.00                  0.00   normal   \n\n   lastflag  \n0        20  \n1        15  \n2        19  \n3        21  \n4        21  \n\n[5 rows x 43 columns]",
            "text/html": "<div>\n<style scoped>\n    .dataframe tbody tr th:only-of-type {\n        vertical-align: middle;\n    }\n\n    .dataframe tbody tr th {\n        vertical-align: top;\n    }\n\n    .dataframe thead th {\n        text-align: right;\n    }\n</style>\n<table border=\"1\" class=\"dataframe\">\n  <thead>\n    <tr style=\"text-align: right;\">\n      <th></th>\n      <th>duration</th>\n      <th>protocoltype</th>\n      <th>service</th>\n      <th>flag</th>\n      <th>srcbytes</th>\n      <th>dstbytes</th>\n      <th>land</th>\n      <th>wrongfragment</th>\n      <th>urgent</th>\n      <th>hot</th>\n      <th>...</th>\n      <th>dsthostsamesrvrate</th>\n      <th>dsthostdiffsrvrate</th>\n      <th>dsthostsamesrcportrate</th>\n      <th>dsthostsrvdiffhostrate</th>\n      <th>dsthostserrorrate</th>\n      <th>dsthostsrvserrorrate</th>\n      <th>dsthostrerrorrate</th>\n      <th>dsthostsrvrerrorrate</th>\n      <th>attack</th>\n      <th>lastflag</th>\n    </tr>\n  </thead>\n  <tbody>\n    <tr>\n      <th>0</th>\n      <td>0</td>\n      <td>tcp</td>\n      <td>ftp_data</td>\n      <td>SF</td>\n      <td>491</td>\n      <td>0</td>\n      <td>0</td>\n      <td>0</td>\n      <td>0</td>\n      <td>0</td>\n      <td>...</td>\n      <td>0.17</td>\n      <td>0.03</td>\n      <td>0.17</td>\n      <td>0.00</td>\n      <td>0.00</td>\n      <td>0.00</td>\n      <td>0.05</td>\n      <td>0.00</td>\n      <td>normal</td>\n      <td>20</td>\n    </tr>\n    <tr>\n      <th>1</th>\n      <td>0</td>\n      <td>udp</td>\n      <td>other</td>\n      <td>SF</td>\n      <td>146</td>\n      <td>0</td>\n      <td>0</td>\n      <td>0</td>\n      <td>0</td>\n      <td>0</td>\n      <td>...</td>\n      <td>0.00</td>\n      <td>0.60</td>\n      <td>0.88</td>\n      <td>0.00</td>\n      <td>0.00</td>\n      <td>0.00</td>\n      <td>0.00</td>\n      <td>0.00</td>\n      <td>normal</td>\n      <td>15</td>\n    </tr>\n    <tr>\n      <th>2</th>\n      <td>0</td>\n      <td>tcp</td>\n      <td>private</td>\n      <td>S0</td>\n      <td>0</td>\n      <td>0</td>\n      <td>0</td>\n      <td>0</td>\n      <td>0</td>\n      <td>0</td>\n      <td>...</td>\n      <td>0.10</td>\n      <td>0.05</td>\n      <td>0.00</td>\n      <td>0.00</td>\n      <td>1.00</td>\n      <td>1.00</td>\n      <td>0.00</td>\n      <td>0.00</td>\n      <td>neptune</td>\n      <td>19</td>\n    </tr>\n    <tr>\n      <th>3</th>\n      <td>0</td>\n      <td>tcp</td>\n      <td>http</td>\n      <td>SF</td>\n      <td>232</td>\n      <td>8153</td>\n      <td>0</td>\n      <td>0</td>\n      <td>0</td>\n      <td>0</td>\n      <td>...</td>\n      <td>1.00</td>\n      <td>0.00</td>\n      <td>0.03</td>\n      <td>0.04</td>\n      <td>0.03</td>\n      <td>0.01</td>\n      <td>0.00</td>\n      <td>0.01</td>\n      <td>normal</td>\n      <td>21</td>\n    </tr>\n    <tr>\n      <th>4</th>\n      <td>0</td>\n      <td>tcp</td>\n      <td>http</td>\n      <td>SF</td>\n      <td>199</td>\n      <td>420</td>\n      <td>0</td>\n      <td>0</td>\n      <td>0</td>\n      <td>0</td>\n      <td>...</td>\n      <td>1.00</td>\n      <td>0.00</td>\n      <td>0.00</td>\n      <td>0.00</td>\n      <td>0.00</td>\n      <td>0.00</td>\n      <td>0.00</td>\n      <td>0.00</td>\n      <td>normal</td>\n      <td>21</td>\n    </tr>\n  </tbody>\n</table>\n<p>5 rows × 43 columns</p>\n</div>"
          },
          "metadata": {}
        }
      ]
    },
    {
      "cell_type": "code",
      "source": [
        "df.shape"
      ],
      "metadata": {
        "execution": {
          "iopub.status.busy": "2024-05-25T16:57:14.042778Z",
          "iopub.execute_input": "2024-05-25T16:57:14.043228Z",
          "iopub.status.idle": "2024-05-25T16:57:14.050265Z",
          "shell.execute_reply.started": "2024-05-25T16:57:14.043187Z",
          "shell.execute_reply": "2024-05-25T16:57:14.048798Z"
        },
        "trusted": true,
        "id": "kTtTYGBYCVSi",
        "outputId": "ca5b3cf2-545d-460a-8559-fba7a22922ae"
      },
      "execution_count": null,
      "outputs": [
        {
          "execution_count": 4,
          "output_type": "execute_result",
          "data": {
            "text/plain": "(125973, 43)"
          },
          "metadata": {}
        }
      ]
    },
    {
      "cell_type": "code",
      "source": [
        "df.describe()"
      ],
      "metadata": {
        "execution": {
          "iopub.status.busy": "2024-05-25T16:57:14.054624Z",
          "iopub.execute_input": "2024-05-25T16:57:14.055116Z",
          "iopub.status.idle": "2024-05-25T16:57:14.332972Z",
          "shell.execute_reply.started": "2024-05-25T16:57:14.055066Z",
          "shell.execute_reply": "2024-05-25T16:57:14.331907Z"
        },
        "trusted": true,
        "id": "XpxBwOrXCVSl",
        "outputId": "993945d9-dba7-4e93-f15f-1902214c7464"
      },
      "execution_count": null,
      "outputs": [
        {
          "execution_count": 5,
          "output_type": "execute_result",
          "data": {
            "text/plain": "           duration      srcbytes      dstbytes           land  wrongfragment  \\\ncount  125973.00000  1.259730e+05  1.259730e+05  125973.000000  125973.000000   \nmean      287.14465  4.556674e+04  1.977911e+04       0.000198       0.022687   \nstd      2604.51531  5.870331e+06  4.021269e+06       0.014086       0.253530   \nmin         0.00000  0.000000e+00  0.000000e+00       0.000000       0.000000   \n25%         0.00000  0.000000e+00  0.000000e+00       0.000000       0.000000   \n50%         0.00000  4.400000e+01  0.000000e+00       0.000000       0.000000   \n75%         0.00000  2.760000e+02  5.160000e+02       0.000000       0.000000   \nmax     42908.00000  1.379964e+09  1.309937e+09       1.000000       3.000000   \n\n              urgent            hot  numfailedlogins       loggedin  \\\ncount  125973.000000  125973.000000    125973.000000  125973.000000   \nmean        0.000111       0.204409         0.001222       0.395736   \nstd         0.014366       2.149968         0.045239       0.489010   \nmin         0.000000       0.000000         0.000000       0.000000   \n25%         0.000000       0.000000         0.000000       0.000000   \n50%         0.000000       0.000000         0.000000       0.000000   \n75%         0.000000       0.000000         0.000000       1.000000   \nmax         3.000000      77.000000         5.000000       1.000000   \n\n       numcompromised  ...  dsthostsrvcount  dsthostsamesrvrate  \\\ncount   125973.000000  ...    125973.000000       125973.000000   \nmean         0.279250  ...       115.653005            0.521242   \nstd         23.942042  ...       110.702741            0.448949   \nmin          0.000000  ...         0.000000            0.000000   \n25%          0.000000  ...        10.000000            0.050000   \n50%          0.000000  ...        63.000000            0.510000   \n75%          0.000000  ...       255.000000            1.000000   \nmax       7479.000000  ...       255.000000            1.000000   \n\n       dsthostdiffsrvrate  dsthostsamesrcportrate  dsthostsrvdiffhostrate  \\\ncount       125973.000000           125973.000000           125973.000000   \nmean             0.082951                0.148379                0.032542   \nstd              0.188922                0.308997                0.112564   \nmin              0.000000                0.000000                0.000000   \n25%              0.000000                0.000000                0.000000   \n50%              0.020000                0.000000                0.000000   \n75%              0.070000                0.060000                0.020000   \nmax              1.000000                1.000000                1.000000   \n\n       dsthostserrorrate  dsthostsrvserrorrate  dsthostrerrorrate  \\\ncount      125973.000000         125973.000000      125973.000000   \nmean            0.284452              0.278485           0.118832   \nstd             0.444784              0.445669           0.306557   \nmin             0.000000              0.000000           0.000000   \n25%             0.000000              0.000000           0.000000   \n50%             0.000000              0.000000           0.000000   \n75%             1.000000              1.000000           0.000000   \nmax             1.000000              1.000000           1.000000   \n\n       dsthostsrvrerrorrate       lastflag  \ncount         125973.000000  125973.000000  \nmean               0.120240      19.504060  \nstd                0.319459       2.291503  \nmin                0.000000       0.000000  \n25%                0.000000      18.000000  \n50%                0.000000      20.000000  \n75%                0.000000      21.000000  \nmax                1.000000      21.000000  \n\n[8 rows x 39 columns]",
            "text/html": "<div>\n<style scoped>\n    .dataframe tbody tr th:only-of-type {\n        vertical-align: middle;\n    }\n\n    .dataframe tbody tr th {\n        vertical-align: top;\n    }\n\n    .dataframe thead th {\n        text-align: right;\n    }\n</style>\n<table border=\"1\" class=\"dataframe\">\n  <thead>\n    <tr style=\"text-align: right;\">\n      <th></th>\n      <th>duration</th>\n      <th>srcbytes</th>\n      <th>dstbytes</th>\n      <th>land</th>\n      <th>wrongfragment</th>\n      <th>urgent</th>\n      <th>hot</th>\n      <th>numfailedlogins</th>\n      <th>loggedin</th>\n      <th>numcompromised</th>\n      <th>...</th>\n      <th>dsthostsrvcount</th>\n      <th>dsthostsamesrvrate</th>\n      <th>dsthostdiffsrvrate</th>\n      <th>dsthostsamesrcportrate</th>\n      <th>dsthostsrvdiffhostrate</th>\n      <th>dsthostserrorrate</th>\n      <th>dsthostsrvserrorrate</th>\n      <th>dsthostrerrorrate</th>\n      <th>dsthostsrvrerrorrate</th>\n      <th>lastflag</th>\n    </tr>\n  </thead>\n  <tbody>\n    <tr>\n      <th>count</th>\n      <td>125973.00000</td>\n      <td>1.259730e+05</td>\n      <td>1.259730e+05</td>\n      <td>125973.000000</td>\n      <td>125973.000000</td>\n      <td>125973.000000</td>\n      <td>125973.000000</td>\n      <td>125973.000000</td>\n      <td>125973.000000</td>\n      <td>125973.000000</td>\n      <td>...</td>\n      <td>125973.000000</td>\n      <td>125973.000000</td>\n      <td>125973.000000</td>\n      <td>125973.000000</td>\n      <td>125973.000000</td>\n      <td>125973.000000</td>\n      <td>125973.000000</td>\n      <td>125973.000000</td>\n      <td>125973.000000</td>\n      <td>125973.000000</td>\n    </tr>\n    <tr>\n      <th>mean</th>\n      <td>287.14465</td>\n      <td>4.556674e+04</td>\n      <td>1.977911e+04</td>\n      <td>0.000198</td>\n      <td>0.022687</td>\n      <td>0.000111</td>\n      <td>0.204409</td>\n      <td>0.001222</td>\n      <td>0.395736</td>\n      <td>0.279250</td>\n      <td>...</td>\n      <td>115.653005</td>\n      <td>0.521242</td>\n      <td>0.082951</td>\n      <td>0.148379</td>\n      <td>0.032542</td>\n      <td>0.284452</td>\n      <td>0.278485</td>\n      <td>0.118832</td>\n      <td>0.120240</td>\n      <td>19.504060</td>\n    </tr>\n    <tr>\n      <th>std</th>\n      <td>2604.51531</td>\n      <td>5.870331e+06</td>\n      <td>4.021269e+06</td>\n      <td>0.014086</td>\n      <td>0.253530</td>\n      <td>0.014366</td>\n      <td>2.149968</td>\n      <td>0.045239</td>\n      <td>0.489010</td>\n      <td>23.942042</td>\n      <td>...</td>\n      <td>110.702741</td>\n      <td>0.448949</td>\n      <td>0.188922</td>\n      <td>0.308997</td>\n      <td>0.112564</td>\n      <td>0.444784</td>\n      <td>0.445669</td>\n      <td>0.306557</td>\n      <td>0.319459</td>\n      <td>2.291503</td>\n    </tr>\n    <tr>\n      <th>min</th>\n      <td>0.00000</td>\n      <td>0.000000e+00</td>\n      <td>0.000000e+00</td>\n      <td>0.000000</td>\n      <td>0.000000</td>\n      <td>0.000000</td>\n      <td>0.000000</td>\n      <td>0.000000</td>\n      <td>0.000000</td>\n      <td>0.000000</td>\n      <td>...</td>\n      <td>0.000000</td>\n      <td>0.000000</td>\n      <td>0.000000</td>\n      <td>0.000000</td>\n      <td>0.000000</td>\n      <td>0.000000</td>\n      <td>0.000000</td>\n      <td>0.000000</td>\n      <td>0.000000</td>\n      <td>0.000000</td>\n    </tr>\n    <tr>\n      <th>25%</th>\n      <td>0.00000</td>\n      <td>0.000000e+00</td>\n      <td>0.000000e+00</td>\n      <td>0.000000</td>\n      <td>0.000000</td>\n      <td>0.000000</td>\n      <td>0.000000</td>\n      <td>0.000000</td>\n      <td>0.000000</td>\n      <td>0.000000</td>\n      <td>...</td>\n      <td>10.000000</td>\n      <td>0.050000</td>\n      <td>0.000000</td>\n      <td>0.000000</td>\n      <td>0.000000</td>\n      <td>0.000000</td>\n      <td>0.000000</td>\n      <td>0.000000</td>\n      <td>0.000000</td>\n      <td>18.000000</td>\n    </tr>\n    <tr>\n      <th>50%</th>\n      <td>0.00000</td>\n      <td>4.400000e+01</td>\n      <td>0.000000e+00</td>\n      <td>0.000000</td>\n      <td>0.000000</td>\n      <td>0.000000</td>\n      <td>0.000000</td>\n      <td>0.000000</td>\n      <td>0.000000</td>\n      <td>0.000000</td>\n      <td>...</td>\n      <td>63.000000</td>\n      <td>0.510000</td>\n      <td>0.020000</td>\n      <td>0.000000</td>\n      <td>0.000000</td>\n      <td>0.000000</td>\n      <td>0.000000</td>\n      <td>0.000000</td>\n      <td>0.000000</td>\n      <td>20.000000</td>\n    </tr>\n    <tr>\n      <th>75%</th>\n      <td>0.00000</td>\n      <td>2.760000e+02</td>\n      <td>5.160000e+02</td>\n      <td>0.000000</td>\n      <td>0.000000</td>\n      <td>0.000000</td>\n      <td>0.000000</td>\n      <td>0.000000</td>\n      <td>1.000000</td>\n      <td>0.000000</td>\n      <td>...</td>\n      <td>255.000000</td>\n      <td>1.000000</td>\n      <td>0.070000</td>\n      <td>0.060000</td>\n      <td>0.020000</td>\n      <td>1.000000</td>\n      <td>1.000000</td>\n      <td>0.000000</td>\n      <td>0.000000</td>\n      <td>21.000000</td>\n    </tr>\n    <tr>\n      <th>max</th>\n      <td>42908.00000</td>\n      <td>1.379964e+09</td>\n      <td>1.309937e+09</td>\n      <td>1.000000</td>\n      <td>3.000000</td>\n      <td>3.000000</td>\n      <td>77.000000</td>\n      <td>5.000000</td>\n      <td>1.000000</td>\n      <td>7479.000000</td>\n      <td>...</td>\n      <td>255.000000</td>\n      <td>1.000000</td>\n      <td>1.000000</td>\n      <td>1.000000</td>\n      <td>1.000000</td>\n      <td>1.000000</td>\n      <td>1.000000</td>\n      <td>1.000000</td>\n      <td>1.000000</td>\n      <td>21.000000</td>\n    </tr>\n  </tbody>\n</table>\n<p>8 rows × 39 columns</p>\n</div>"
          },
          "metadata": {}
        }
      ]
    },
    {
      "cell_type": "markdown",
      "source": [
        "As we can see 'land', 'urgent', 'numfailedlogins', 'numoutboundcmds' have mostly zero values so we can drop these columns."
      ],
      "metadata": {
        "id": "F20KzZq-CVSo"
      }
    },
    {
      "cell_type": "code",
      "source": [
        "df.drop(['land','urgent','numfailedlogins','numoutboundcmds'],axis=1,inplace=True)"
      ],
      "metadata": {
        "execution": {
          "iopub.status.busy": "2024-05-25T16:57:14.335656Z",
          "iopub.execute_input": "2024-05-25T16:57:14.335993Z",
          "iopub.status.idle": "2024-05-25T16:57:14.363998Z",
          "shell.execute_reply.started": "2024-05-25T16:57:14.335959Z",
          "shell.execute_reply": "2024-05-25T16:57:14.362895Z"
        },
        "trusted": true,
        "id": "oKWV0fMqCVSv"
      },
      "execution_count": null,
      "outputs": []
    },
    {
      "cell_type": "code",
      "source": [
        "df.isna().sum()"
      ],
      "metadata": {
        "execution": {
          "iopub.status.busy": "2024-05-25T16:57:14.365453Z",
          "iopub.execute_input": "2024-05-25T16:57:14.365775Z",
          "iopub.status.idle": "2024-05-25T16:57:14.417316Z",
          "shell.execute_reply.started": "2024-05-25T16:57:14.365741Z",
          "shell.execute_reply": "2024-05-25T16:57:14.416243Z"
        },
        "trusted": true,
        "id": "zxsz7oLvCVSy",
        "outputId": "f8e4236d-eb3c-4492-d07b-f1f3fc7461c5"
      },
      "execution_count": null,
      "outputs": [
        {
          "execution_count": 7,
          "output_type": "execute_result",
          "data": {
            "text/plain": "duration                  0\nprotocoltype              0\nservice                   0\nflag                      0\nsrcbytes                  0\ndstbytes                  0\nwrongfragment             0\nhot                       0\nloggedin                  0\nnumcompromised            0\nrootshell                 0\nsuattempted               0\nnumroot                   0\nnumfilecreations          0\nnumshells                 0\nnumaccessfiles            0\nishostlogin               0\nisguestlogin              0\ncount                     0\nsrvcount                  0\nserrorrate                0\nsrvserrorrate             0\nrerrorrate                0\nsrvrerrorrate             0\nsamesrvrate               0\ndiffsrvrate               0\nsrvdiffhostrate           0\ndsthostcount              0\ndsthostsrvcount           0\ndsthostsamesrvrate        0\ndsthostdiffsrvrate        0\ndsthostsamesrcportrate    0\ndsthostsrvdiffhostrate    0\ndsthostserrorrate         0\ndsthostsrvserrorrate      0\ndsthostrerrorrate         0\ndsthostsrvrerrorrate      0\nattack                    0\nlastflag                  0\ndtype: int64"
          },
          "metadata": {}
        }
      ]
    },
    {
      "cell_type": "code",
      "source": [
        "df.select_dtypes(exclude=[np.number])"
      ],
      "metadata": {
        "execution": {
          "iopub.status.busy": "2024-05-25T16:57:14.419307Z",
          "iopub.execute_input": "2024-05-25T16:57:14.41975Z",
          "iopub.status.idle": "2024-05-25T16:57:14.443351Z",
          "shell.execute_reply.started": "2024-05-25T16:57:14.419711Z",
          "shell.execute_reply": "2024-05-25T16:57:14.441908Z"
        },
        "trusted": true,
        "id": "CykUcI4MCVS1",
        "outputId": "e4233fa4-f811-451e-c861-035941f5ea41"
      },
      "execution_count": null,
      "outputs": [
        {
          "execution_count": 8,
          "output_type": "execute_result",
          "data": {
            "text/plain": "       protocoltype   service flag   attack\n0               tcp  ftp_data   SF   normal\n1               udp     other   SF   normal\n2               tcp   private   S0  neptune\n3               tcp      http   SF   normal\n4               tcp      http   SF   normal\n...             ...       ...  ...      ...\n125968          tcp   private   S0  neptune\n125969          udp   private   SF   normal\n125970          tcp      smtp   SF   normal\n125971          tcp    klogin   S0  neptune\n125972          tcp  ftp_data   SF   normal\n\n[125973 rows x 4 columns]",
            "text/html": "<div>\n<style scoped>\n    .dataframe tbody tr th:only-of-type {\n        vertical-align: middle;\n    }\n\n    .dataframe tbody tr th {\n        vertical-align: top;\n    }\n\n    .dataframe thead th {\n        text-align: right;\n    }\n</style>\n<table border=\"1\" class=\"dataframe\">\n  <thead>\n    <tr style=\"text-align: right;\">\n      <th></th>\n      <th>protocoltype</th>\n      <th>service</th>\n      <th>flag</th>\n      <th>attack</th>\n    </tr>\n  </thead>\n  <tbody>\n    <tr>\n      <th>0</th>\n      <td>tcp</td>\n      <td>ftp_data</td>\n      <td>SF</td>\n      <td>normal</td>\n    </tr>\n    <tr>\n      <th>1</th>\n      <td>udp</td>\n      <td>other</td>\n      <td>SF</td>\n      <td>normal</td>\n    </tr>\n    <tr>\n      <th>2</th>\n      <td>tcp</td>\n      <td>private</td>\n      <td>S0</td>\n      <td>neptune</td>\n    </tr>\n    <tr>\n      <th>3</th>\n      <td>tcp</td>\n      <td>http</td>\n      <td>SF</td>\n      <td>normal</td>\n    </tr>\n    <tr>\n      <th>4</th>\n      <td>tcp</td>\n      <td>http</td>\n      <td>SF</td>\n      <td>normal</td>\n    </tr>\n    <tr>\n      <th>...</th>\n      <td>...</td>\n      <td>...</td>\n      <td>...</td>\n      <td>...</td>\n    </tr>\n    <tr>\n      <th>125968</th>\n      <td>tcp</td>\n      <td>private</td>\n      <td>S0</td>\n      <td>neptune</td>\n    </tr>\n    <tr>\n      <th>125969</th>\n      <td>udp</td>\n      <td>private</td>\n      <td>SF</td>\n      <td>normal</td>\n    </tr>\n    <tr>\n      <th>125970</th>\n      <td>tcp</td>\n      <td>smtp</td>\n      <td>SF</td>\n      <td>normal</td>\n    </tr>\n    <tr>\n      <th>125971</th>\n      <td>tcp</td>\n      <td>klogin</td>\n      <td>S0</td>\n      <td>neptune</td>\n    </tr>\n    <tr>\n      <th>125972</th>\n      <td>tcp</td>\n      <td>ftp_data</td>\n      <td>SF</td>\n      <td>normal</td>\n    </tr>\n  </tbody>\n</table>\n<p>125973 rows × 4 columns</p>\n</div>"
          },
          "metadata": {}
        }
      ]
    },
    {
      "cell_type": "markdown",
      "source": [
        "As we are focussing on Binomial Classification for this dataset, we can make all other classes other than normal as 'attack'"
      ],
      "metadata": {
        "id": "_PNTZxb3CVS3"
      }
    },
    {
      "cell_type": "code",
      "source": [
        "df['attack'].loc[df['attack']!='normal']='attack'"
      ],
      "metadata": {
        "execution": {
          "iopub.status.busy": "2024-05-25T16:57:14.445053Z",
          "iopub.execute_input": "2024-05-25T16:57:14.445547Z",
          "iopub.status.idle": "2024-05-25T16:57:14.466819Z",
          "shell.execute_reply.started": "2024-05-25T16:57:14.445498Z",
          "shell.execute_reply": "2024-05-25T16:57:14.465584Z"
        },
        "trusted": true,
        "id": "adWLB420CVS4"
      },
      "execution_count": null,
      "outputs": []
    },
    {
      "cell_type": "code",
      "source": [
        "le=LabelEncoder()"
      ],
      "metadata": {
        "execution": {
          "iopub.status.busy": "2024-05-25T16:57:14.46863Z",
          "iopub.execute_input": "2024-05-25T16:57:14.469103Z",
          "iopub.status.idle": "2024-05-25T16:57:14.475372Z",
          "shell.execute_reply.started": "2024-05-25T16:57:14.469044Z",
          "shell.execute_reply": "2024-05-25T16:57:14.47421Z"
        },
        "trusted": true,
        "id": "feMjE8t5CVS6"
      },
      "execution_count": null,
      "outputs": []
    },
    {
      "cell_type": "code",
      "source": [
        "df['protocoltype']=le.fit_transform(df['protocoltype'])\n",
        "df['service']=le.fit_transform(df['service'])\n",
        "df['flag']=le.fit_transform(df['flag'])\n",
        "df['attack']=le.fit_transform(df['attack'])"
      ],
      "metadata": {
        "execution": {
          "iopub.status.busy": "2024-05-25T16:57:14.477656Z",
          "iopub.execute_input": "2024-05-25T16:57:14.478133Z",
          "iopub.status.idle": "2024-05-25T16:57:14.604936Z",
          "shell.execute_reply.started": "2024-05-25T16:57:14.478086Z",
          "shell.execute_reply": "2024-05-25T16:57:14.603712Z"
        },
        "trusted": true,
        "id": "qxXsyNx-CVS7"
      },
      "execution_count": null,
      "outputs": []
    },
    {
      "cell_type": "code",
      "source": [
        "plt.figure(figsize=(20,15))\n",
        "#sns.heatmap(df.corr())"
      ],
      "metadata": {
        "execution": {
          "iopub.status.busy": "2024-05-25T16:57:14.606462Z",
          "iopub.execute_input": "2024-05-25T16:57:14.606796Z",
          "iopub.status.idle": "2024-05-25T16:57:14.649029Z",
          "shell.execute_reply.started": "2024-05-25T16:57:14.606765Z",
          "shell.execute_reply": "2024-05-25T16:57:14.647813Z"
        },
        "trusted": true,
        "id": "L3-WfWPyCVS8",
        "outputId": "3b2f9f67-411e-4bbd-91b2-06df31d1750d"
      },
      "execution_count": null,
      "outputs": [
        {
          "execution_count": 12,
          "output_type": "execute_result",
          "data": {
            "text/plain": "<Figure size 1440x1080 with 0 Axes>"
          },
          "metadata": {}
        },
        {
          "output_type": "display_data",
          "data": {
            "text/plain": "<Figure size 1440x1080 with 0 Axes>"
          },
          "metadata": {}
        }
      ]
    },
    {
      "cell_type": "code",
      "source": [
        "X=df.drop(['attack'],axis=1)\n",
        "y=df['attack']"
      ],
      "metadata": {
        "execution": {
          "iopub.status.busy": "2024-05-25T16:57:14.650637Z",
          "iopub.execute_input": "2024-05-25T16:57:14.65108Z",
          "iopub.status.idle": "2024-05-25T16:57:14.686768Z",
          "shell.execute_reply.started": "2024-05-25T16:57:14.651021Z",
          "shell.execute_reply": "2024-05-25T16:57:14.685675Z"
        },
        "trusted": true,
        "id": "8tUM8lVQCVS9"
      },
      "execution_count": null,
      "outputs": []
    },
    {
      "cell_type": "code",
      "source": [
        "#sns.countplot(df['attack'])"
      ],
      "metadata": {
        "execution": {
          "iopub.status.busy": "2024-05-25T16:57:14.68831Z",
          "iopub.execute_input": "2024-05-25T16:57:14.688716Z",
          "iopub.status.idle": "2024-05-25T16:57:14.693452Z",
          "shell.execute_reply.started": "2024-05-25T16:57:14.688679Z",
          "shell.execute_reply": "2024-05-25T16:57:14.692181Z"
        },
        "trusted": true,
        "id": "m6R6nnF-CVS-"
      },
      "execution_count": null,
      "outputs": []
    },
    {
      "cell_type": "code",
      "source": [
        "print(\"Class distribution: {}\".format(Counter(y)))"
      ],
      "metadata": {
        "execution": {
          "iopub.status.busy": "2024-05-25T16:57:14.694867Z",
          "iopub.execute_input": "2024-05-25T16:57:14.695229Z",
          "iopub.status.idle": "2024-05-25T16:57:14.724975Z",
          "shell.execute_reply.started": "2024-05-25T16:57:14.695181Z",
          "shell.execute_reply": "2024-05-25T16:57:14.723405Z"
        },
        "trusted": true,
        "id": "27uIdjokCVS_",
        "outputId": "85d872e1-6039-4538-b400-76d026ce7072"
      },
      "execution_count": null,
      "outputs": [
        {
          "name": "stdout",
          "text": "Class distribution: Counter({1: 67343, 0: 58630})\n",
          "output_type": "stream"
        }
      ]
    },
    {
      "cell_type": "code",
      "source": [
        "scaler = StandardScaler()\n",
        "scaler.fit(X)\n",
        "X_transformed = scaler.transform(X)"
      ],
      "metadata": {
        "execution": {
          "iopub.status.busy": "2024-05-25T16:57:14.726808Z",
          "iopub.execute_input": "2024-05-25T16:57:14.727134Z",
          "iopub.status.idle": "2024-05-25T16:57:14.875631Z",
          "shell.execute_reply.started": "2024-05-25T16:57:14.727103Z",
          "shell.execute_reply": "2024-05-25T16:57:14.874361Z"
        },
        "trusted": true,
        "id": "9tHsNg_rCVTA"
      },
      "execution_count": null,
      "outputs": []
    },
    {
      "cell_type": "markdown",
      "source": [
        "**Using Logistic Regression**"
      ],
      "metadata": {
        "id": "HJ2LkwpbCVTB"
      }
    },
    {
      "cell_type": "code",
      "source": [
        "lr=LogisticRegression() # creates an instance of the Logistic Regression model.\n",
        "lr.fit(X_transformed,y) #  trains the Logistic Regression model on the training data. X_transformed represents the feature matrix (input variables), and y represents the target variable (labels or classes).\n",
        "lr_pred=lr.predict(X_transformed) # generates predictions for the training set based on the trained Logistic Regression model."
      ],
      "metadata": {
        "execution": {
          "iopub.status.busy": "2024-05-25T16:57:14.880032Z",
          "iopub.execute_input": "2024-05-25T16:57:14.880425Z",
          "iopub.status.idle": "2024-05-25T16:57:16.326781Z",
          "shell.execute_reply.started": "2024-05-25T16:57:14.880386Z",
          "shell.execute_reply": "2024-05-25T16:57:16.325533Z"
        },
        "trusted": true,
        "id": "bf-zLPHxCVTB"
      },
      "execution_count": null,
      "outputs": []
    },
    {
      "cell_type": "code",
      "source": [
        "lr_df=pd.DataFrame()\n",
        "lr_df['actual']=y\n",
        "lr_df['pred']=lr_pred"
      ],
      "metadata": {
        "execution": {
          "iopub.status.busy": "2024-05-25T16:57:16.328596Z",
          "iopub.execute_input": "2024-05-25T16:57:16.329067Z",
          "iopub.status.idle": "2024-05-25T16:57:16.351838Z",
          "shell.execute_reply.started": "2024-05-25T16:57:16.329015Z",
          "shell.execute_reply": "2024-05-25T16:57:16.350557Z"
        },
        "trusted": true,
        "id": "NEXYGTQnCVTC"
      },
      "execution_count": null,
      "outputs": []
    },
    {
      "cell_type": "code",
      "source": [
        "lr_df.head()"
      ],
      "metadata": {
        "execution": {
          "iopub.status.busy": "2024-05-25T16:57:16.353485Z",
          "iopub.execute_input": "2024-05-25T16:57:16.354105Z",
          "iopub.status.idle": "2024-05-25T16:57:16.366228Z",
          "shell.execute_reply.started": "2024-05-25T16:57:16.354053Z",
          "shell.execute_reply": "2024-05-25T16:57:16.364911Z"
        },
        "trusted": true,
        "id": "q6T4iGtoCVTD",
        "outputId": "b8685a58-5141-4866-8364-b9b4ae81d5c5"
      },
      "execution_count": null,
      "outputs": [
        {
          "execution_count": 19,
          "output_type": "execute_result",
          "data": {
            "text/plain": "   actual  pred\n0       1     1\n1       1     0\n2       0     0\n3       1     1\n4       1     1",
            "text/html": "<div>\n<style scoped>\n    .dataframe tbody tr th:only-of-type {\n        vertical-align: middle;\n    }\n\n    .dataframe tbody tr th {\n        vertical-align: top;\n    }\n\n    .dataframe thead th {\n        text-align: right;\n    }\n</style>\n<table border=\"1\" class=\"dataframe\">\n  <thead>\n    <tr style=\"text-align: right;\">\n      <th></th>\n      <th>actual</th>\n      <th>pred</th>\n    </tr>\n  </thead>\n  <tbody>\n    <tr>\n      <th>0</th>\n      <td>1</td>\n      <td>1</td>\n    </tr>\n    <tr>\n      <th>1</th>\n      <td>1</td>\n      <td>0</td>\n    </tr>\n    <tr>\n      <th>2</th>\n      <td>0</td>\n      <td>0</td>\n    </tr>\n    <tr>\n      <th>3</th>\n      <td>1</td>\n      <td>1</td>\n    </tr>\n    <tr>\n      <th>4</th>\n      <td>1</td>\n      <td>1</td>\n    </tr>\n  </tbody>\n</table>\n</div>"
          },
          "metadata": {}
        }
      ]
    },
    {
      "cell_type": "code",
      "source": [
        "print(accuracy_score(y, lr_pred))"
      ],
      "metadata": {
        "execution": {
          "iopub.status.busy": "2024-05-25T16:57:16.367886Z",
          "iopub.execute_input": "2024-05-25T16:57:16.368465Z",
          "iopub.status.idle": "2024-05-25T16:57:16.3908Z",
          "shell.execute_reply.started": "2024-05-25T16:57:16.36842Z",
          "shell.execute_reply": "2024-05-25T16:57:16.389531Z"
        },
        "trusted": true,
        "id": "rV8BOyhRCVTE",
        "outputId": "8446e04c-59d3-4a9b-ae45-eeda1a4478dc"
      },
      "execution_count": null,
      "outputs": [
        {
          "name": "stdout",
          "text": "0.9783207512720979\n",
          "output_type": "stream"
        }
      ]
    },
    {
      "cell_type": "code",
      "source": [
        "confusion_matrix(y, lr_pred)"
      ],
      "metadata": {
        "execution": {
          "iopub.status.busy": "2024-05-25T16:57:16.39272Z",
          "iopub.execute_input": "2024-05-25T16:57:16.393206Z",
          "iopub.status.idle": "2024-05-25T16:57:16.526439Z",
          "shell.execute_reply.started": "2024-05-25T16:57:16.393156Z",
          "shell.execute_reply": "2024-05-25T16:57:16.525103Z"
        },
        "trusted": true,
        "id": "oVM3dyACCVTG",
        "outputId": "d9d76367-f42f-4e7d-ceea-e9291ce34f75"
      },
      "execution_count": null,
      "outputs": [
        {
          "execution_count": 21,
          "output_type": "execute_result",
          "data": {
            "text/plain": "array([[57558,  1072],\n       [ 1659, 65684]])"
          },
          "metadata": {}
        }
      ]
    },
    {
      "cell_type": "code",
      "source": [
        "print(classification_report(y, lr_pred))"
      ],
      "metadata": {
        "execution": {
          "iopub.status.busy": "2024-05-25T16:57:16.528117Z",
          "iopub.execute_input": "2024-05-25T16:57:16.528592Z",
          "iopub.status.idle": "2024-05-25T16:57:16.776907Z",
          "shell.execute_reply.started": "2024-05-25T16:57:16.528543Z",
          "shell.execute_reply": "2024-05-25T16:57:16.775913Z"
        },
        "trusted": true,
        "id": "OKX9KMApCVTH",
        "outputId": "e294e15e-2484-41d6-c88b-a76e73ca62b4"
      },
      "execution_count": null,
      "outputs": [
        {
          "name": "stdout",
          "text": "              precision    recall  f1-score   support\n\n           0       0.97      0.98      0.98     58630\n           1       0.98      0.98      0.98     67343\n\n    accuracy                           0.98    125973\n   macro avg       0.98      0.98      0.98    125973\nweighted avg       0.98      0.98      0.98    125973\n\n",
          "output_type": "stream"
        }
      ]
    },
    {
      "cell_type": "markdown",
      "source": [
        "**Using Random Forest Classifier**"
      ],
      "metadata": {
        "id": "LfdPeTU4CVTH"
      }
    },
    {
      "cell_type": "code",
      "source": [
        "rf=RandomForestClassifier()\n",
        "rf.fit(X_transformed,y)\n",
        "rf_pred=rf.predict(X_transformed)"
      ],
      "metadata": {
        "execution": {
          "iopub.status.busy": "2024-05-25T16:57:16.778135Z",
          "iopub.execute_input": "2024-05-25T16:57:16.778492Z",
          "iopub.status.idle": "2024-05-25T16:57:33.278599Z",
          "shell.execute_reply.started": "2024-05-25T16:57:16.778458Z",
          "shell.execute_reply": "2024-05-25T16:57:33.277558Z"
        },
        "trusted": true,
        "id": "_hyTn2zdCVTI"
      },
      "execution_count": null,
      "outputs": []
    },
    {
      "cell_type": "code",
      "source": [
        "rf_df=pd.DataFrame()\n",
        "rf_df['actual']=y\n",
        "rf_df['pred']=rf_pred\n",
        "rf_df.head()"
      ],
      "metadata": {
        "execution": {
          "iopub.status.busy": "2024-05-25T16:57:33.280368Z",
          "iopub.execute_input": "2024-05-25T16:57:33.28073Z",
          "iopub.status.idle": "2024-05-25T16:57:33.311438Z",
          "shell.execute_reply.started": "2024-05-25T16:57:33.280694Z",
          "shell.execute_reply": "2024-05-25T16:57:33.310325Z"
        },
        "trusted": true,
        "id": "1cxnBYkLCVTJ",
        "outputId": "844fc991-5f18-40bc-cc9f-316ed3ac27d9"
      },
      "execution_count": null,
      "outputs": [
        {
          "execution_count": 24,
          "output_type": "execute_result",
          "data": {
            "text/plain": "   actual  pred\n0       1     1\n1       1     1\n2       0     0\n3       1     1\n4       1     1",
            "text/html": "<div>\n<style scoped>\n    .dataframe tbody tr th:only-of-type {\n        vertical-align: middle;\n    }\n\n    .dataframe tbody tr th {\n        vertical-align: top;\n    }\n\n    .dataframe thead th {\n        text-align: right;\n    }\n</style>\n<table border=\"1\" class=\"dataframe\">\n  <thead>\n    <tr style=\"text-align: right;\">\n      <th></th>\n      <th>actual</th>\n      <th>pred</th>\n    </tr>\n  </thead>\n  <tbody>\n    <tr>\n      <th>0</th>\n      <td>1</td>\n      <td>1</td>\n    </tr>\n    <tr>\n      <th>1</th>\n      <td>1</td>\n      <td>1</td>\n    </tr>\n    <tr>\n      <th>2</th>\n      <td>0</td>\n      <td>0</td>\n    </tr>\n    <tr>\n      <th>3</th>\n      <td>1</td>\n      <td>1</td>\n    </tr>\n    <tr>\n      <th>4</th>\n      <td>1</td>\n      <td>1</td>\n    </tr>\n  </tbody>\n</table>\n</div>"
          },
          "metadata": {}
        }
      ]
    },
    {
      "cell_type": "code",
      "source": [
        "print(accuracy_score(y, rf_pred))"
      ],
      "metadata": {
        "execution": {
          "iopub.status.busy": "2024-05-25T16:57:33.313412Z",
          "iopub.execute_input": "2024-05-25T16:57:33.314113Z",
          "iopub.status.idle": "2024-05-25T16:57:33.334359Z",
          "shell.execute_reply.started": "2024-05-25T16:57:33.314058Z",
          "shell.execute_reply": "2024-05-25T16:57:33.333074Z"
        },
        "trusted": true,
        "id": "RxNqgNQPCVTK",
        "outputId": "6ffcd736-b376-4a25-f2da-14d0428a8f4c"
      },
      "execution_count": null,
      "outputs": [
        {
          "name": "stdout",
          "text": "1.0\n",
          "output_type": "stream"
        }
      ]
    },
    {
      "cell_type": "code",
      "source": [
        "confusion_matrix(y, rf_pred)"
      ],
      "metadata": {
        "execution": {
          "iopub.status.busy": "2024-05-25T16:57:33.335909Z",
          "iopub.execute_input": "2024-05-25T16:57:33.336428Z",
          "iopub.status.idle": "2024-05-25T16:57:33.47011Z",
          "shell.execute_reply.started": "2024-05-25T16:57:33.336377Z",
          "shell.execute_reply": "2024-05-25T16:57:33.468834Z"
        },
        "trusted": true,
        "id": "J0ZFWp54CVTL",
        "outputId": "141a10af-6ab9-4f51-c250-a2ef860eaa47"
      },
      "execution_count": null,
      "outputs": [
        {
          "execution_count": 26,
          "output_type": "execute_result",
          "data": {
            "text/plain": "array([[58630,     0],\n       [    0, 67343]])"
          },
          "metadata": {}
        }
      ]
    },
    {
      "cell_type": "code",
      "source": [
        "print(classification_report(y, rf_pred))"
      ],
      "metadata": {
        "execution": {
          "iopub.status.busy": "2024-05-25T16:57:33.471977Z",
          "iopub.execute_input": "2024-05-25T16:57:33.472477Z",
          "iopub.status.idle": "2024-05-25T16:57:33.721398Z",
          "shell.execute_reply.started": "2024-05-25T16:57:33.472426Z",
          "shell.execute_reply": "2024-05-25T16:57:33.720131Z"
        },
        "trusted": true,
        "id": "wWJNkRM5CVTO",
        "outputId": "9e4654c1-816d-4177-f1fd-948a5ffb7780"
      },
      "execution_count": null,
      "outputs": [
        {
          "name": "stdout",
          "text": "              precision    recall  f1-score   support\n\n           0       1.00      1.00      1.00     58630\n           1       1.00      1.00      1.00     67343\n\n    accuracy                           1.00    125973\n   macro avg       1.00      1.00      1.00    125973\nweighted avg       1.00      1.00      1.00    125973\n\n",
          "output_type": "stream"
        }
      ]
    },
    {
      "cell_type": "markdown",
      "source": [
        "**Using SVM**"
      ],
      "metadata": {
        "id": "654SHVfpCVTO"
      }
    },
    {
      "cell_type": "markdown",
      "source": [],
      "metadata": {
        "id": "lWXLQQ5-CVTP"
      }
    },
    {
      "cell_type": "code",
      "source": [
        "svm_model = SVC(kernel='rbf', random_state=42)\n",
        "svm_model.fit(X_transformed, y)\n",
        "svm_pred=svm_model.predict(X_transformed)\n",
        "\n",
        "print(accuracy_score(y, svm_pred))\n",
        "print(classification_report(y, svm_pred))\n",
        "joblib.dump(svm_model,\"svm_model.pkl\")"
      ],
      "metadata": {
        "execution": {
          "iopub.status.busy": "2024-05-25T16:57:33.723641Z",
          "iopub.execute_input": "2024-05-25T16:57:33.724105Z",
          "iopub.status.idle": "2024-05-25T16:58:36.33957Z",
          "shell.execute_reply.started": "2024-05-25T16:57:33.724056Z",
          "shell.execute_reply": "2024-05-25T16:58:36.338161Z"
        },
        "trusted": true,
        "id": "ocVv8wrjCVTQ",
        "outputId": "837b8ea0-3ffc-444e-c107-b1c04302e6b4"
      },
      "execution_count": null,
      "outputs": [
        {
          "name": "stdout",
          "text": "0.9975153405888564\n              precision    recall  f1-score   support\n\n           0       1.00      1.00      1.00     58630\n           1       1.00      1.00      1.00     67343\n\n    accuracy                           1.00    125973\n   macro avg       1.00      1.00      1.00    125973\nweighted avg       1.00      1.00      1.00    125973\n\n",
          "output_type": "stream"
        },
        {
          "execution_count": 28,
          "output_type": "execute_result",
          "data": {
            "text/plain": "['svm_model.pkl']"
          },
          "metadata": {}
        }
      ]
    },
    {
      "cell_type": "markdown",
      "source": [
        "**Using Random Forest Classifier Model on test data:**"
      ],
      "metadata": {
        "id": "3E49APR4CVTS"
      }
    },
    {
      "cell_type": "code",
      "source": [
        "test_df = pd.read_csv(\"Test.txt\",sep=\",\",names=[\"duration\",\"protocoltype\",\"service\",\"flag\",\"srcbytes\",\"dstbytes\",\"land\", \"wrongfragment\",\"urgent\",\"hot\",\"numfailedlogins\",\"loggedin\", \"numcompromised\",\"rootshell\",\"suattempted\",\"numroot\",\"numfilecreations\", \"numshells\",\"numaccessfiles\",\"numoutboundcmds\",\"ishostlogin\",\n",
        "\"isguestlogin\",\"count\",\"srvcount\",\"serrorrate\", \"srvserrorrate\",\n",
        "\"rerrorrate\",\"srvrerrorrate\",\"samesrvrate\", \"diffsrvrate\", \"srvdiffhostrate\",\"dsthostcount\",\"dsthostsrvcount\",\"dsthostsamesrvrate\", \"dsthostdiffsrvrate\",\"dsthostsamesrcportrate\",\n",
        "\"dsthostsrvdiffhostrate\",\"dsthostserrorrate\",\"dsthostsrvserrorrate\",\n",
        "\"dsthostrerrorrate\",\"dsthostsrvrerrorrate\",\"attack\", \"lastflag\"])\n",
        "test_df.head()"
      ],
      "metadata": {
        "execution": {
          "iopub.status.busy": "2024-05-25T16:58:36.342758Z",
          "iopub.execute_input": "2024-05-25T16:58:36.343092Z",
          "iopub.status.idle": "2024-05-25T16:58:36.724319Z",
          "shell.execute_reply.started": "2024-05-25T16:58:36.343061Z",
          "shell.execute_reply": "2024-05-25T16:58:36.719817Z"
        },
        "trusted": true,
        "id": "LBAR6amcCVTS",
        "outputId": "67936704-81b8-45c7-b741-fc316a40374e"
      },
      "execution_count": null,
      "outputs": [
        {
          "traceback": [
            "\u001b[0;31m---------------------------------------------------------------------------\u001b[0m",
            "\u001b[0;31mFileNotFoundError\u001b[0m                         Traceback (most recent call last)",
            "\u001b[0;32m<ipython-input-29-9c3557653102>\u001b[0m in \u001b[0;36m<module>\u001b[0;34m\u001b[0m\n\u001b[1;32m      3\u001b[0m \u001b[0;34m\"rerrorrate\"\u001b[0m\u001b[0;34m,\u001b[0m\u001b[0;34m\"srvrerrorrate\"\u001b[0m\u001b[0;34m,\u001b[0m\u001b[0;34m\"samesrvrate\"\u001b[0m\u001b[0;34m,\u001b[0m \u001b[0;34m\"diffsrvrate\"\u001b[0m\u001b[0;34m,\u001b[0m \u001b[0;34m\"srvdiffhostrate\"\u001b[0m\u001b[0;34m,\u001b[0m\u001b[0;34m\"dsthostcount\"\u001b[0m\u001b[0;34m,\u001b[0m\u001b[0;34m\"dsthostsrvcount\"\u001b[0m\u001b[0;34m,\u001b[0m\u001b[0;34m\"dsthostsamesrvrate\"\u001b[0m\u001b[0;34m,\u001b[0m \u001b[0;34m\"dsthostdiffsrvrate\"\u001b[0m\u001b[0;34m,\u001b[0m\u001b[0;34m\"dsthostsamesrcportrate\"\u001b[0m\u001b[0;34m,\u001b[0m\u001b[0;34m\u001b[0m\u001b[0;34m\u001b[0m\u001b[0m\n\u001b[1;32m      4\u001b[0m \u001b[0;34m\"dsthostsrvdiffhostrate\"\u001b[0m\u001b[0;34m,\u001b[0m\u001b[0;34m\"dsthostserrorrate\"\u001b[0m\u001b[0;34m,\u001b[0m\u001b[0;34m\"dsthostsrvserrorrate\"\u001b[0m\u001b[0;34m,\u001b[0m\u001b[0;34m\u001b[0m\u001b[0;34m\u001b[0m\u001b[0m\n\u001b[0;32m----> 5\u001b[0;31m \"dsthostrerrorrate\",\"dsthostsrvrerrorrate\",\"attack\", \"lastflag\"])\n\u001b[0m\u001b[1;32m      6\u001b[0m \u001b[0mtest_df\u001b[0m\u001b[0;34m.\u001b[0m\u001b[0mhead\u001b[0m\u001b[0;34m(\u001b[0m\u001b[0;34m)\u001b[0m\u001b[0;34m\u001b[0m\u001b[0;34m\u001b[0m\u001b[0m\n",
            "\u001b[0;32m/opt/conda/lib/python3.7/site-packages/pandas/io/parsers.py\u001b[0m in \u001b[0;36mread_csv\u001b[0;34m(filepath_or_buffer, sep, delimiter, header, names, index_col, usecols, squeeze, prefix, mangle_dupe_cols, dtype, engine, converters, true_values, false_values, skipinitialspace, skiprows, skipfooter, nrows, na_values, keep_default_na, na_filter, verbose, skip_blank_lines, parse_dates, infer_datetime_format, keep_date_col, date_parser, dayfirst, cache_dates, iterator, chunksize, compression, thousands, decimal, lineterminator, quotechar, quoting, doublequote, escapechar, comment, encoding, dialect, error_bad_lines, warn_bad_lines, delim_whitespace, low_memory, memory_map, float_precision)\u001b[0m\n\u001b[1;32m    686\u001b[0m     )\n\u001b[1;32m    687\u001b[0m \u001b[0;34m\u001b[0m\u001b[0m\n\u001b[0;32m--> 688\u001b[0;31m     \u001b[0;32mreturn\u001b[0m \u001b[0m_read\u001b[0m\u001b[0;34m(\u001b[0m\u001b[0mfilepath_or_buffer\u001b[0m\u001b[0;34m,\u001b[0m \u001b[0mkwds\u001b[0m\u001b[0;34m)\u001b[0m\u001b[0;34m\u001b[0m\u001b[0;34m\u001b[0m\u001b[0m\n\u001b[0m\u001b[1;32m    689\u001b[0m \u001b[0;34m\u001b[0m\u001b[0m\n\u001b[1;32m    690\u001b[0m \u001b[0;34m\u001b[0m\u001b[0m\n",
            "\u001b[0;32m/opt/conda/lib/python3.7/site-packages/pandas/io/parsers.py\u001b[0m in \u001b[0;36m_read\u001b[0;34m(filepath_or_buffer, kwds)\u001b[0m\n\u001b[1;32m    452\u001b[0m \u001b[0;34m\u001b[0m\u001b[0m\n\u001b[1;32m    453\u001b[0m     \u001b[0;31m# Create the parser.\u001b[0m\u001b[0;34m\u001b[0m\u001b[0;34m\u001b[0m\u001b[0;34m\u001b[0m\u001b[0m\n\u001b[0;32m--> 454\u001b[0;31m     \u001b[0mparser\u001b[0m \u001b[0;34m=\u001b[0m \u001b[0mTextFileReader\u001b[0m\u001b[0;34m(\u001b[0m\u001b[0mfp_or_buf\u001b[0m\u001b[0;34m,\u001b[0m \u001b[0;34m**\u001b[0m\u001b[0mkwds\u001b[0m\u001b[0;34m)\u001b[0m\u001b[0;34m\u001b[0m\u001b[0;34m\u001b[0m\u001b[0m\n\u001b[0m\u001b[1;32m    455\u001b[0m \u001b[0;34m\u001b[0m\u001b[0m\n\u001b[1;32m    456\u001b[0m     \u001b[0;32mif\u001b[0m \u001b[0mchunksize\u001b[0m \u001b[0;32mor\u001b[0m \u001b[0miterator\u001b[0m\u001b[0;34m:\u001b[0m\u001b[0;34m\u001b[0m\u001b[0;34m\u001b[0m\u001b[0m\n",
            "\u001b[0;32m/opt/conda/lib/python3.7/site-packages/pandas/io/parsers.py\u001b[0m in \u001b[0;36m__init__\u001b[0;34m(self, f, engine, **kwds)\u001b[0m\n\u001b[1;32m    946\u001b[0m             \u001b[0mself\u001b[0m\u001b[0;34m.\u001b[0m\u001b[0moptions\u001b[0m\u001b[0;34m[\u001b[0m\u001b[0;34m\"has_index_names\"\u001b[0m\u001b[0;34m]\u001b[0m \u001b[0;34m=\u001b[0m \u001b[0mkwds\u001b[0m\u001b[0;34m[\u001b[0m\u001b[0;34m\"has_index_names\"\u001b[0m\u001b[0;34m]\u001b[0m\u001b[0;34m\u001b[0m\u001b[0;34m\u001b[0m\u001b[0m\n\u001b[1;32m    947\u001b[0m \u001b[0;34m\u001b[0m\u001b[0m\n\u001b[0;32m--> 948\u001b[0;31m         \u001b[0mself\u001b[0m\u001b[0;34m.\u001b[0m\u001b[0m_make_engine\u001b[0m\u001b[0;34m(\u001b[0m\u001b[0mself\u001b[0m\u001b[0;34m.\u001b[0m\u001b[0mengine\u001b[0m\u001b[0;34m)\u001b[0m\u001b[0;34m\u001b[0m\u001b[0;34m\u001b[0m\u001b[0m\n\u001b[0m\u001b[1;32m    949\u001b[0m \u001b[0;34m\u001b[0m\u001b[0m\n\u001b[1;32m    950\u001b[0m     \u001b[0;32mdef\u001b[0m \u001b[0mclose\u001b[0m\u001b[0;34m(\u001b[0m\u001b[0mself\u001b[0m\u001b[0;34m)\u001b[0m\u001b[0;34m:\u001b[0m\u001b[0;34m\u001b[0m\u001b[0;34m\u001b[0m\u001b[0m\n",
            "\u001b[0;32m/opt/conda/lib/python3.7/site-packages/pandas/io/parsers.py\u001b[0m in \u001b[0;36m_make_engine\u001b[0;34m(self, engine)\u001b[0m\n\u001b[1;32m   1178\u001b[0m     \u001b[0;32mdef\u001b[0m \u001b[0m_make_engine\u001b[0m\u001b[0;34m(\u001b[0m\u001b[0mself\u001b[0m\u001b[0;34m,\u001b[0m \u001b[0mengine\u001b[0m\u001b[0;34m=\u001b[0m\u001b[0;34m\"c\"\u001b[0m\u001b[0;34m)\u001b[0m\u001b[0;34m:\u001b[0m\u001b[0;34m\u001b[0m\u001b[0;34m\u001b[0m\u001b[0m\n\u001b[1;32m   1179\u001b[0m         \u001b[0;32mif\u001b[0m \u001b[0mengine\u001b[0m \u001b[0;34m==\u001b[0m \u001b[0;34m\"c\"\u001b[0m\u001b[0;34m:\u001b[0m\u001b[0;34m\u001b[0m\u001b[0;34m\u001b[0m\u001b[0m\n\u001b[0;32m-> 1180\u001b[0;31m             \u001b[0mself\u001b[0m\u001b[0;34m.\u001b[0m\u001b[0m_engine\u001b[0m \u001b[0;34m=\u001b[0m \u001b[0mCParserWrapper\u001b[0m\u001b[0;34m(\u001b[0m\u001b[0mself\u001b[0m\u001b[0;34m.\u001b[0m\u001b[0mf\u001b[0m\u001b[0;34m,\u001b[0m \u001b[0;34m**\u001b[0m\u001b[0mself\u001b[0m\u001b[0;34m.\u001b[0m\u001b[0moptions\u001b[0m\u001b[0;34m)\u001b[0m\u001b[0;34m\u001b[0m\u001b[0;34m\u001b[0m\u001b[0m\n\u001b[0m\u001b[1;32m   1181\u001b[0m         \u001b[0;32melse\u001b[0m\u001b[0;34m:\u001b[0m\u001b[0;34m\u001b[0m\u001b[0;34m\u001b[0m\u001b[0m\n\u001b[1;32m   1182\u001b[0m             \u001b[0;32mif\u001b[0m \u001b[0mengine\u001b[0m \u001b[0;34m==\u001b[0m \u001b[0;34m\"python\"\u001b[0m\u001b[0;34m:\u001b[0m\u001b[0;34m\u001b[0m\u001b[0;34m\u001b[0m\u001b[0m\n",
            "\u001b[0;32m/opt/conda/lib/python3.7/site-packages/pandas/io/parsers.py\u001b[0m in \u001b[0;36m__init__\u001b[0;34m(self, src, **kwds)\u001b[0m\n\u001b[1;32m   2008\u001b[0m         \u001b[0mkwds\u001b[0m\u001b[0;34m[\u001b[0m\u001b[0;34m\"usecols\"\u001b[0m\u001b[0;34m]\u001b[0m \u001b[0;34m=\u001b[0m \u001b[0mself\u001b[0m\u001b[0;34m.\u001b[0m\u001b[0musecols\u001b[0m\u001b[0;34m\u001b[0m\u001b[0;34m\u001b[0m\u001b[0m\n\u001b[1;32m   2009\u001b[0m \u001b[0;34m\u001b[0m\u001b[0m\n\u001b[0;32m-> 2010\u001b[0;31m         \u001b[0mself\u001b[0m\u001b[0;34m.\u001b[0m\u001b[0m_reader\u001b[0m \u001b[0;34m=\u001b[0m \u001b[0mparsers\u001b[0m\u001b[0;34m.\u001b[0m\u001b[0mTextReader\u001b[0m\u001b[0;34m(\u001b[0m\u001b[0msrc\u001b[0m\u001b[0;34m,\u001b[0m \u001b[0;34m**\u001b[0m\u001b[0mkwds\u001b[0m\u001b[0;34m)\u001b[0m\u001b[0;34m\u001b[0m\u001b[0;34m\u001b[0m\u001b[0m\n\u001b[0m\u001b[1;32m   2011\u001b[0m         \u001b[0mself\u001b[0m\u001b[0;34m.\u001b[0m\u001b[0munnamed_cols\u001b[0m \u001b[0;34m=\u001b[0m \u001b[0mself\u001b[0m\u001b[0;34m.\u001b[0m\u001b[0m_reader\u001b[0m\u001b[0;34m.\u001b[0m\u001b[0munnamed_cols\u001b[0m\u001b[0;34m\u001b[0m\u001b[0;34m\u001b[0m\u001b[0m\n\u001b[1;32m   2012\u001b[0m \u001b[0;34m\u001b[0m\u001b[0m\n",
            "\u001b[0;32mpandas/_libs/parsers.pyx\u001b[0m in \u001b[0;36mpandas._libs.parsers.TextReader.__cinit__\u001b[0;34m()\u001b[0m\n",
            "\u001b[0;32mpandas/_libs/parsers.pyx\u001b[0m in \u001b[0;36mpandas._libs.parsers.TextReader._setup_parser_source\u001b[0;34m()\u001b[0m\n",
            "\u001b[0;31mFileNotFoundError\u001b[0m: [Errno 2] No such file or directory: 'Test.txt'"
          ],
          "ename": "FileNotFoundError",
          "evalue": "[Errno 2] No such file or directory: 'Test.txt'",
          "output_type": "error"
        }
      ]
    },
    {
      "cell_type": "code",
      "source": [
        "test_df.select_dtypes(exclude=[np.number])\n",
        "print(test_df)"
      ],
      "metadata": {
        "execution": {
          "iopub.status.busy": "2024-05-25T16:58:36.725358Z",
          "iopub.status.idle": "2024-05-25T16:58:36.725826Z"
        },
        "trusted": true,
        "id": "m9HfKfg5CVTU"
      },
      "execution_count": null,
      "outputs": []
    },
    {
      "cell_type": "code",
      "source": [
        "test_df['attack'].loc[test_df['attack']!='normal']='attack'"
      ],
      "metadata": {
        "execution": {
          "iopub.status.busy": "2024-05-25T16:58:36.727215Z",
          "iopub.status.idle": "2024-05-25T16:58:36.728001Z"
        },
        "trusted": true,
        "id": "iac9s5GECVTU"
      },
      "execution_count": null,
      "outputs": []
    },
    {
      "cell_type": "code",
      "source": [
        "test_df['protocoltype']=le.fit_transform(test_df['protocoltype'])\n",
        "test_df['service']=le.fit_transform(test_df['service'])\n",
        "test_df['flag']=le.fit_transform(test_df['flag'])\n",
        "test_df['attack']=le.fit_transform(test_df['attack'])"
      ],
      "metadata": {
        "execution": {
          "iopub.status.busy": "2024-05-25T16:58:36.729368Z",
          "iopub.status.idle": "2024-05-25T16:58:36.730046Z"
        },
        "trusted": true,
        "id": "t7yguRSFCVTl"
      },
      "execution_count": null,
      "outputs": []
    },
    {
      "cell_type": "code",
      "source": [
        "test_df.drop(['land','urgent','numfailedlogins','numoutboundcmds'],axis=1,inplace=True)"
      ],
      "metadata": {
        "execution": {
          "iopub.status.busy": "2024-05-25T16:58:36.731535Z",
          "iopub.status.idle": "2024-05-25T16:58:36.732236Z"
        },
        "trusted": true,
        "id": "fqp13eDUCVTm"
      },
      "execution_count": null,
      "outputs": []
    },
    {
      "cell_type": "code",
      "source": [
        "X_test=test_df.drop(['attack'],axis=1)\n",
        "y_test=test_df['attack']"
      ],
      "metadata": {
        "execution": {
          "iopub.status.busy": "2024-05-25T16:58:36.733716Z",
          "iopub.status.idle": "2024-05-25T16:58:36.734443Z"
        },
        "trusted": true,
        "id": "-3sSlPGrCVTn"
      },
      "execution_count": null,
      "outputs": []
    },
    {
      "cell_type": "code",
      "source": [
        "#sns.countplot(test_df['attack'])"
      ],
      "metadata": {
        "execution": {
          "iopub.status.busy": "2024-05-25T16:58:36.735961Z",
          "iopub.status.idle": "2024-05-25T16:58:36.736684Z"
        },
        "trusted": true,
        "id": "1_kMQhGDCVTo"
      },
      "execution_count": null,
      "outputs": []
    },
    {
      "cell_type": "markdown",
      "source": [],
      "metadata": {
        "id": "gxs6bn-kCVTp"
      }
    },
    {
      "cell_type": "code",
      "source": [
        "X_test_transformed = scaler.transform(X_test)"
      ],
      "metadata": {
        "execution": {
          "iopub.status.busy": "2024-05-25T16:58:36.738218Z",
          "iopub.status.idle": "2024-05-25T16:58:36.738975Z"
        },
        "trusted": true,
        "id": "4egwhp2yCVTp"
      },
      "execution_count": null,
      "outputs": []
    },
    {
      "cell_type": "code",
      "source": [
        "test_pred=rf.predict(X_test_transformed)"
      ],
      "metadata": {
        "execution": {
          "iopub.status.busy": "2024-05-25T16:58:36.740524Z",
          "iopub.status.idle": "2024-05-25T16:58:36.741226Z"
        },
        "trusted": true,
        "id": "CPQr9VGrCVTq"
      },
      "execution_count": null,
      "outputs": []
    },
    {
      "cell_type": "markdown",
      "source": [],
      "metadata": {
        "id": "kjl9WFf-CVTr"
      }
    },
    {
      "cell_type": "markdown",
      "source": [],
      "metadata": {
        "id": "kp9bx74iCVTr"
      }
    },
    {
      "cell_type": "code",
      "source": [
        "rf_test_df=pd.DataFrame()\n",
        "rf_test_df['actual']=y_test\n",
        "rf_test_df['pred']=test_pred"
      ],
      "metadata": {
        "execution": {
          "iopub.status.busy": "2024-05-25T16:58:36.742707Z",
          "iopub.status.idle": "2024-05-25T16:58:36.743427Z"
        },
        "trusted": true,
        "id": "-QBfozNhCVTs"
      },
      "execution_count": null,
      "outputs": []
    },
    {
      "cell_type": "code",
      "source": [
        "rf_test_df.head()"
      ],
      "metadata": {
        "execution": {
          "iopub.status.busy": "2024-05-25T16:58:36.744759Z",
          "iopub.status.idle": "2024-05-25T16:58:36.745488Z"
        },
        "trusted": true,
        "id": "2WjX4qQWCVTt"
      },
      "execution_count": null,
      "outputs": []
    },
    {
      "cell_type": "code",
      "source": [
        "print(accuracy_score(y_test, test_pred))"
      ],
      "metadata": {
        "execution": {
          "iopub.status.busy": "2024-05-25T16:58:36.747209Z",
          "iopub.status.idle": "2024-05-25T16:58:36.74798Z"
        },
        "trusted": true,
        "id": "M-AGPQnkCVTt"
      },
      "execution_count": null,
      "outputs": []
    },
    {
      "cell_type": "markdown",
      "source": [],
      "metadata": {
        "id": "13ERjmfiCVTu"
      }
    },
    {
      "cell_type": "code",
      "source": [
        "target_names=[\"attack\",\"normal\"]"
      ],
      "metadata": {
        "execution": {
          "iopub.status.busy": "2024-05-25T16:58:36.749482Z",
          "iopub.status.idle": "2024-05-25T16:58:36.749956Z"
        },
        "trusted": true,
        "id": "CSPN2LOGCVTv"
      },
      "execution_count": null,
      "outputs": []
    },
    {
      "cell_type": "code",
      "source": [
        "print(classification_report(y_test, test_pred,target_names=target_names))"
      ],
      "metadata": {
        "execution": {
          "iopub.status.busy": "2024-05-25T16:58:36.750869Z",
          "iopub.status.idle": "2024-05-25T16:58:36.751334Z"
        },
        "trusted": true,
        "id": "hhWaIf9WCVTw"
      },
      "execution_count": null,
      "outputs": []
    },
    {
      "cell_type": "code",
      "source": [
        "confusion_matrix(y_test, test_pred)"
      ],
      "metadata": {
        "execution": {
          "iopub.status.busy": "2024-05-25T16:58:36.752397Z",
          "iopub.status.idle": "2024-05-25T16:58:36.752905Z"
        },
        "trusted": true,
        "id": "s21DUKOOCVTx"
      },
      "execution_count": null,
      "outputs": []
    },
    {
      "cell_type": "markdown",
      "source": [
        "**Logistic Regression**"
      ],
      "metadata": {
        "id": "R39SoC6SCVTy"
      }
    },
    {
      "cell_type": "code",
      "source": [
        "test_pred=lr.predict(X_test_transformed)\n",
        "print(classification_report(y_test, test_pred,target_names=target_names))"
      ],
      "metadata": {
        "execution": {
          "iopub.status.busy": "2024-05-25T16:58:36.753979Z",
          "iopub.status.idle": "2024-05-25T16:58:36.75445Z"
        },
        "trusted": true,
        "id": "3RGBasBYCVTz"
      },
      "execution_count": null,
      "outputs": []
    },
    {
      "cell_type": "code",
      "source": [
        "lr_pred=lr.score(X_test_transformed, y_test)\n",
        "print(lr_pred)"
      ],
      "metadata": {
        "execution": {
          "iopub.status.busy": "2024-05-25T16:58:36.755595Z",
          "iopub.status.idle": "2024-05-25T16:58:36.756057Z"
        },
        "trusted": true,
        "id": "Va0tcQFhCVT0"
      },
      "execution_count": null,
      "outputs": []
    },
    {
      "cell_type": "markdown",
      "source": [
        "**SVM**"
      ],
      "metadata": {
        "id": "_Ta_FLX4CVT3"
      }
    },
    {
      "cell_type": "code",
      "source": [
        "test_pred=svm_model.predict(X_test_transformed)\n",
        "print(classification_report(y_test, test_pred,target_names=target_names))"
      ],
      "metadata": {
        "execution": {
          "iopub.status.busy": "2024-05-25T16:58:36.757122Z",
          "iopub.status.idle": "2024-05-25T16:58:36.757589Z"
        },
        "trusted": true,
        "id": "FjgsTQJ-CVT4"
      },
      "execution_count": null,
      "outputs": []
    },
    {
      "cell_type": "code",
      "source": [
        "accuracy_score = svm_model.score(X_test_transformed, y_test)\n",
        "print(accuracy_score)"
      ],
      "metadata": {
        "execution": {
          "iopub.status.busy": "2024-05-25T16:58:36.758498Z",
          "iopub.status.idle": "2024-05-25T16:58:36.758939Z"
        },
        "trusted": true,
        "id": "MFNelatGCVT6"
      },
      "execution_count": null,
      "outputs": []
    },
    {
      "cell_type": "code",
      "source": [
        "from sklearn.metrics import roc_curve, auc"
      ],
      "metadata": {
        "execution": {
          "iopub.status.busy": "2024-05-25T16:58:36.759939Z",
          "iopub.status.idle": "2024-05-25T16:58:36.76043Z"
        },
        "trusted": true,
        "id": "NRWvWeakCVT7"
      },
      "execution_count": null,
      "outputs": []
    },
    {
      "cell_type": "code",
      "source": [
        "y_prob = svm_model.predict(X_test_transformed)\n",
        "df1={\n",
        "    \"y_test\":y_test,\n",
        "    \"y_pred\":y_prob\n",
        "\n",
        "}\n",
        "df1=pd.DataFrame(df1)\n",
        "print(df1)\n",
        "fpr, tpr, thresholds = roc_curve(y_test, y_prob)\n",
        "#print(\"Thresholds:\",thresholds)\n",
        "roc_auc = auc(fpr, tpr)\n",
        "#print(\"Auc:\",roc_auc)\n",
        "plt.figure(figsize=(8, 6))\n",
        "plt.plot(fpr, tpr, color='darkorange', lw=2, label=f'ROC curve (AUC = {roc_auc:.2f})')\n",
        "plt.plot([0, 1], [0, 1], color='navy', lw=2, linestyle='--', label='Random')\n",
        "plt.xlabel('False Positive Rate')\n",
        "plt.ylabel('True Positive Rate')\n",
        "plt.title('Receiver Operating Characteristic (ROC) Curve')\n",
        "plt.legend(loc='lower right')\n",
        "plt.show()"
      ],
      "metadata": {
        "execution": {
          "iopub.status.busy": "2024-05-25T16:58:36.761641Z",
          "iopub.status.idle": "2024-05-25T16:58:36.762092Z"
        },
        "trusted": true,
        "id": "9sd0nD_qCVT8"
      },
      "execution_count": null,
      "outputs": []
    },
    {
      "cell_type": "code",
      "source": [
        "model = Sequential([\n",
        "    Dense(64, activation='relu', input_shape=(X_transformed.shape[1],)),\n",
        "    Dropout(0.2),\n",
        "    Dense(32, activation='relu'),\n",
        "    Dropout(0.2),\n",
        "    Dense(1, activation='sigmoid')\n",
        "])"
      ],
      "metadata": {
        "execution": {
          "iopub.status.busy": "2024-05-25T16:58:36.763276Z",
          "iopub.status.idle": "2024-05-25T16:58:36.763785Z"
        },
        "trusted": true,
        "id": "mcLE4craCVT9"
      },
      "execution_count": null,
      "outputs": []
    },
    {
      "cell_type": "code",
      "source": [
        "model.compile(optimizer='adam', loss='binary_crossentropy', metrics=['accuracy'])"
      ],
      "metadata": {
        "execution": {
          "iopub.status.busy": "2024-05-25T16:58:36.76511Z",
          "iopub.status.idle": "2024-05-25T16:58:36.765614Z"
        },
        "trusted": true,
        "id": "1_k_eJKMCVT-"
      },
      "execution_count": null,
      "outputs": []
    },
    {
      "cell_type": "code",
      "source": [
        "history = model.fit(X_transformed, y, epochs=20, batch_size=32, validation_split=0.2)"
      ],
      "metadata": {
        "execution": {
          "iopub.status.busy": "2024-05-25T16:58:36.766466Z",
          "iopub.status.idle": "2024-05-25T16:58:36.766934Z"
        },
        "trusted": true,
        "id": "WjcyEcN5CVT_"
      },
      "execution_count": null,
      "outputs": []
    },
    {
      "cell_type": "code",
      "source": [
        "training_accuracy = history.history['accuracy']\n",
        "validation_accuracy = history.history['val_accuracy']\n",
        "epochs = range(1, len(training_accuracy) + 1)\n",
        "\n",
        "# Plot training and validation accuracy\n",
        "plt.plot(epochs, training_accuracy, 'b', label='Training accuracy')\n",
        "plt.plot(epochs, validation_accuracy, 'r', label='Validation accuracy')\n",
        "plt.title('Training and Validation Accuracy')\n",
        "plt.xlabel('Epochs')\n",
        "plt.ylabel('Accuracy')\n",
        "plt.legend()\n",
        "plt.show()"
      ],
      "metadata": {
        "execution": {
          "iopub.status.busy": "2024-05-25T16:58:36.767893Z",
          "iopub.status.idle": "2024-05-25T16:58:36.768394Z"
        },
        "trusted": true,
        "id": "2g5buSRkCVUA"
      },
      "execution_count": null,
      "outputs": []
    },
    {
      "cell_type": "code",
      "source": [
        "test_loss, test_acc = model.evaluate(X_test_transformed, y_test)\n",
        "print(f'Test accuracy: {test_acc}')"
      ],
      "metadata": {
        "execution": {
          "iopub.status.busy": "2024-05-25T16:58:36.769414Z",
          "iopub.status.idle": "2024-05-25T16:58:36.769855Z"
        },
        "trusted": true,
        "id": "KM_kzJiMCVUB"
      },
      "execution_count": null,
      "outputs": []
    },
    {
      "cell_type": "code",
      "source": [
        "predictions = model.predict(X_test_transformed)\n",
        "predictions = (predictions > 0.5)"
      ],
      "metadata": {
        "execution": {
          "iopub.status.busy": "2024-05-25T16:58:36.770789Z",
          "iopub.status.idle": "2024-05-25T16:58:36.771237Z"
        },
        "trusted": true,
        "id": "UggVC7esCVUC"
      },
      "execution_count": null,
      "outputs": []
    },
    {
      "cell_type": "code",
      "source": [
        "model.summary()"
      ],
      "metadata": {
        "execution": {
          "iopub.status.busy": "2024-05-25T16:58:36.772153Z",
          "iopub.status.idle": "2024-05-25T16:58:36.772662Z"
        },
        "trusted": true,
        "id": "3PrKg61cCVUD"
      },
      "execution_count": null,
      "outputs": []
    },
    {
      "cell_type": "code",
      "source": [
        "y_pred = (predictions > 0.5).astype(int)"
      ],
      "metadata": {
        "execution": {
          "iopub.status.busy": "2024-05-25T16:58:36.773537Z",
          "iopub.status.idle": "2024-05-25T16:58:36.773979Z"
        },
        "trusted": true,
        "id": "8Kpbk1MNCVUE"
      },
      "execution_count": null,
      "outputs": []
    },
    {
      "cell_type": "code",
      "source": [
        "report = classification_report(y_test, y_pred)"
      ],
      "metadata": {
        "execution": {
          "iopub.status.busy": "2024-05-25T16:58:36.775046Z",
          "iopub.status.idle": "2024-05-25T16:58:36.775579Z"
        },
        "trusted": true,
        "id": "yIPqISHDCVUF"
      },
      "execution_count": null,
      "outputs": []
    },
    {
      "cell_type": "code",
      "source": [
        "print(\"Classification Report:\")\n",
        "print(report)"
      ],
      "metadata": {
        "execution": {
          "iopub.status.busy": "2024-05-25T16:58:36.776731Z",
          "iopub.status.idle": "2024-05-25T16:58:36.777208Z"
        },
        "trusted": true,
        "id": "QbjXN1VCCVUH"
      },
      "execution_count": null,
      "outputs": []
    },
    {
      "cell_type": "code",
      "source": [
        "!pip install plotly\n"
      ],
      "metadata": {
        "execution": {
          "iopub.status.busy": "2024-05-25T16:58:36.778186Z",
          "iopub.status.idle": "2024-05-25T16:58:36.778654Z"
        },
        "trusted": true,
        "id": "9WiqbdxZCVUH"
      },
      "execution_count": null,
      "outputs": []
    },
    {
      "cell_type": "code",
      "source": [
        "import plotly.express as px\n",
        "#"
      ],
      "metadata": {
        "execution": {
          "iopub.status.busy": "2024-05-25T16:58:36.779704Z",
          "iopub.status.idle": "2024-05-25T16:58:36.780211Z"
        },
        "trusted": true,
        "id": "ik1VtyzeCVUJ"
      },
      "execution_count": null,
      "outputs": []
    },
    {
      "cell_type": "code",
      "source": [
        "# Define pastel colors\n",
        "pastel_colors = ['#FFD1DC', '#FFA07A', '#B0E0E6', '#98FB98']\n",
        "\n",
        "# Create DataFrame\n",
        "data = {\n",
        "    \"Model\": [\"Random Forest\", \"SVC\", \"Logistic Regression\", \"Neural Networks\"],\n",
        "    \"Accuracy\": [82, 86, 84, 87],\n",
        "    \"Color\": pastel_colors\n",
        "}\n",
        "\n",
        "df = pd.DataFrame(data)\n",
        "\n",
        "# Create bar plot\n",
        "fig = px.bar(df, x=\"Model\", y=\"Accuracy\", text=\"Accuracy\",\n",
        "             color=\"Color\", color_discrete_map=\"identity\")\n",
        "\n",
        "fig.update_traces(texttemplate='%{text}%', textposition='outside')\n",
        "\n",
        "fig.update_layout(title=\"Accuracy of Different Machine Learning Models\",\n",
        "                  xaxis_title=\"Model\",\n",
        "                  yaxis_title=\"Accuracy (%)\")\n",
        "\n",
        "fig.show()\n"
      ],
      "metadata": {
        "execution": {
          "iopub.status.busy": "2024-05-25T16:58:36.781471Z",
          "iopub.status.idle": "2024-05-25T16:58:36.782025Z"
        },
        "trusted": true,
        "id": "euYsbPOQCVUK"
      },
      "execution_count": null,
      "outputs": []
    },
    {
      "cell_type": "code",
      "source": [],
      "metadata": {
        "id": "JWEO9hWpCVUL"
      },
      "execution_count": null,
      "outputs": []
    }
  ]
}